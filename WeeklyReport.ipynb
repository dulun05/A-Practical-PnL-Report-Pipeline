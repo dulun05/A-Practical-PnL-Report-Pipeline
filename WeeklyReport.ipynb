{
 "cells": [
  {
   "cell_type": "code",
   "execution_count": 2,
   "metadata": {},
   "outputs": [
    {
     "name": "stdout",
     "output_type": "stream",
     "text": [
      "['2019-08-05', '2019-08-06', '2019-08-07', '2019-08-08', '2019-08-09']\n",
      "2019-08-05\n",
      "2019-08-06\n",
      "2019-08-07\n",
      "2019-08-08\n",
      "2019-08-09\n",
      "ok!\n"
     ]
    }
   ],
   "source": [
    "import pandas as pd \n",
    "import numpy as np\n",
    "import time\n",
    "\n",
    "#input the path\n",
    "desktop = \"D:/Allen_UIBE/Career/Internship/JoinQuant/长谦财富/运行文件\"\n",
    "#获取正式用户登记表\n",
    "path = desktop + \"/运营数据/一创聚宽（升级版）正式使用登记表.xlsx\"\n",
    "accontdf=pd.read_excel(path,encoding=\"gbk\")\n",
    "#正式账户的资金账号列表\n",
    "formallist=accontdf.drop_duplicates([\"资金账号\"],keep=\"first\")[\"资金账号\"].values.tolist()\n",
    "#获取今日日期\n",
    "#riqi=time.strftime(\"%Y-%m-%d\",time.localtime(time.time()))\n",
    "riqi = \"2019-08-09\"\n",
    "#调用今日的组合收益表\n",
    "path = desktop + \"/\" + \"运营数据/收益计算结果\"+\"/\"+riqi+\"/\"+\"汇总数据\"+\"/\"+riqi+\"_组合收益记录.xlsx\"\n",
    "alldf=pd.read_excel(path,encoding=\"gbk\")\n",
    "#筛选出最近一周的收益结果并汇总\n",
    "datelist=alldf.drop_duplicates([\"交易日期\"],keep=\"first\")[\"交易日期\"].values.tolist()\n",
    "datelist.sort()\n",
    "daylist=datelist[-5:]\n",
    "print(daylist)\n",
    "#建立dataframe汇总并储存信息\n",
    "summary=pd.DataFrame()\n",
    "#按照天数循环\n",
    "for i in range(len(daylist)):\n",
    "    riqi=daylist[i]\n",
    "    print(riqi)\n",
    "    path = desktop + \"/\" + \"运营数据/收益计算结果\"+\"/\"+riqi+\"/\"+\"汇总数据\"+\"/\"+riqi+\"_组合收益记录.xlsx\"\n",
    "    df_zu=pd.read_excel(path,encoding=\"utf-8\")    \n",
    "    df_zu=pd.concat([df_zu,pd.DataFrame(columns=[\"是否正式\"])],axis=1)                 \n",
    "    df1=df_zu[df_zu[\"交易日期\"]==riqi].reset_index(drop=True)\n",
    "    for i in range(len(df1)):       \n",
    "        if df1.loc[i,\"资金账号\"] in formallist:\n",
    "           \n",
    "            df1.loc[i,\"是否正式\"]=\"正式\"\n",
    "        else:\n",
    "            df1.loc[i,\"是否正式\"]=\"非正式\"        \n",
    "    df1f=df1[df1[\"是否正式\"]==\"正式\"].reset_index(drop=True)\n",
    "    df1inf=df1[df1[\"是否正式\"]==\"非正式\"].reset_index(drop=True)\n",
    "    dict1={}\n",
    "    dict1[\"交易日期\"]=riqi\n",
    "    dict1[\"正式账户\"]=len(df1f)\n",
    "    dict1[\"正式账户当天市值\"]=df1f[\"市值\"].sum()\n",
    "    dict1[\"正式账户当天交易额\"]=int(df1f[\"当天交易额\"].sum())\n",
    "    dict1[\"正式账户当天收益\"]=int(df1f[\"当天收益\"].sum())\n",
    "    dict1[\"试用账户\"]=len(df1inf)\n",
    "    dict1[\"试用账户当天市值\"]=df1inf[\"市值\"].sum()\n",
    "    dict1[\"试用账户当天交易额\"]=int(df1inf[\"当天交易额\"].sum())\n",
    "    dict1[\"试用账户当天收益\"]=int(df1inf[\"当天收益\"].sum())\n",
    "    dict1[\"当天合计交易额\"]=int(df1[\"当天交易额\"].sum())\n",
    "    dict1[\"当天合计总收益\"]=int(df1[\"当天收益\"].sum())\n",
    "    dict1[\"当天合计总市值\"]=int(df1[\"市值\"].sum())\n",
    "    \n",
    "    sum_product = 0\n",
    "    nrow = len(df1)\n",
    "    trading_values = list(df1['当天交易额'].values)\n",
    "    turnover_rates = list(df1['换手率%'].values)\n",
    "    cumulative_tradingvalues = 0\n",
    "    for i in range(nrow):\n",
    "        if not pd.isnull(turnover_rates[i]) and not pd.isnull(trading_values[i]):\n",
    "            product = turnover_rates[i]*trading_values[i]\n",
    "            sum_product = sum_product + product\n",
    "            cumulative_tradingvalues += trading_values[i]\n",
    "    dict1[\"换手率\"]=sum_product/cumulative_tradingvalues/100\n",
    "    dict1[\"换手率\"]=float('%.2f' % dict1[\"换手率\"])\n",
    "    aRecordDf = pd.DataFrame(dict1, index=[0])\n",
    "    summary = pd.concat([summary, aRecordDf], axis=0)\n",
    "    \n",
    "index=[\"交易日期\",\"换手率\",\"当天合计交易额\",\"当天合计总收益\",\"当天合计总市值\",\"正式账户\",\"正式账户当天交易额\",\"正式账户当天市值\",\"正式账户当天收益\",\"试用账户\",\"试用账户当天交易额\",\"试用账户当天市值\",\"试用账户当天收益\"] \n",
    "#today=time.strftime(\"%Y-%m-%d\",time.localtime(time.time()))\n",
    "today = \"2019-08-09\"\n",
    "path= desktop + \"/\" + today + \"_周报数据.xlsx\"\n",
    "summary.to_excel(path,encoding=\"utf-8\",columns=index)\n",
    "print(\"ok!\")\n"
   ]
  },
  {
   "cell_type": "code",
   "execution_count": null,
   "metadata": {},
   "outputs": [],
   "source": []
  }
 ],
 "metadata": {
  "kernelspec": {
   "display_name": "Python 3",
   "language": "python",
   "name": "python3"
  },
  "language_info": {
   "codemirror_mode": {
    "name": "ipython",
    "version": 3
   },
   "file_extension": ".py",
   "mimetype": "text/x-python",
   "name": "python",
   "nbconvert_exporter": "python",
   "pygments_lexer": "ipython3",
   "version": "3.6.4"
  }
 },
 "nbformat": 4,
 "nbformat_minor": 2
}
